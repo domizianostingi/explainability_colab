{
  "nbformat": 4,
  "nbformat_minor": 0,
  "metadata": {
    "colab": {
      "name": "explanability with CIFAR10.ipynb",
      "provenance": [],
      "collapsed_sections": []
    },
    "kernelspec": {
      "name": "python3",
      "display_name": "Python 3"
    },
    "accelerator": "GPU",
    "widgets": {
      "application/vnd.jupyter.widget-state+json": {
        "fbec79d167e548a0817b0402a8440b4c": {
          "model_module": "@jupyter-widgets/controls",
          "model_name": "HBoxModel",
          "state": {
            "_view_name": "HBoxView",
            "_dom_classes": [],
            "_model_name": "HBoxModel",
            "_view_module": "@jupyter-widgets/controls",
            "_model_module_version": "1.5.0",
            "_view_count": null,
            "_view_module_version": "1.5.0",
            "box_style": "",
            "layout": "IPY_MODEL_0bee12b6c2e346dba46bd44d5dda7165",
            "_model_module": "@jupyter-widgets/controls",
            "children": [
              "IPY_MODEL_de30382d061f426ab8029d3b1e307743",
              "IPY_MODEL_bd338447558541a6bf23e7e7d820e2ed"
            ]
          }
        },
        "0bee12b6c2e346dba46bd44d5dda7165": {
          "model_module": "@jupyter-widgets/base",
          "model_name": "LayoutModel",
          "state": {
            "_view_name": "LayoutView",
            "grid_template_rows": null,
            "right": null,
            "justify_content": null,
            "_view_module": "@jupyter-widgets/base",
            "overflow": null,
            "_model_module_version": "1.2.0",
            "_view_count": null,
            "flex_flow": null,
            "width": null,
            "min_width": null,
            "border": null,
            "align_items": null,
            "bottom": null,
            "_model_module": "@jupyter-widgets/base",
            "top": null,
            "grid_column": null,
            "overflow_y": null,
            "overflow_x": null,
            "grid_auto_flow": null,
            "grid_area": null,
            "grid_template_columns": null,
            "flex": null,
            "_model_name": "LayoutModel",
            "justify_items": null,
            "grid_row": null,
            "max_height": null,
            "align_content": null,
            "visibility": null,
            "align_self": null,
            "height": null,
            "min_height": null,
            "padding": null,
            "grid_auto_rows": null,
            "grid_gap": null,
            "max_width": null,
            "order": null,
            "_view_module_version": "1.2.0",
            "grid_template_areas": null,
            "object_position": null,
            "object_fit": null,
            "grid_auto_columns": null,
            "margin": null,
            "display": null,
            "left": null
          }
        },
        "de30382d061f426ab8029d3b1e307743": {
          "model_module": "@jupyter-widgets/controls",
          "model_name": "FloatProgressModel",
          "state": {
            "_view_name": "ProgressView",
            "style": "IPY_MODEL_3a2bc56a13be46169349f08e2712fdde",
            "_dom_classes": [],
            "description": "100%",
            "_model_name": "FloatProgressModel",
            "bar_style": "success",
            "max": 5000,
            "_view_module": "@jupyter-widgets/controls",
            "_model_module_version": "1.5.0",
            "value": 5000,
            "_view_count": null,
            "_view_module_version": "1.5.0",
            "orientation": "horizontal",
            "min": 0,
            "description_tooltip": null,
            "_model_module": "@jupyter-widgets/controls",
            "layout": "IPY_MODEL_576ba6336c894cdebf549a0a3e93d817"
          }
        },
        "bd338447558541a6bf23e7e7d820e2ed": {
          "model_module": "@jupyter-widgets/controls",
          "model_name": "HTMLModel",
          "state": {
            "_view_name": "HTMLView",
            "style": "IPY_MODEL_a7cdc65ac1c94255a346e27e93ab4cbd",
            "_dom_classes": [],
            "description": "",
            "_model_name": "HTMLModel",
            "placeholder": "​",
            "_view_module": "@jupyter-widgets/controls",
            "_model_module_version": "1.5.0",
            "value": " 5000/5000 [00:08&lt;00:00, 575.34it/s]",
            "_view_count": null,
            "_view_module_version": "1.5.0",
            "description_tooltip": null,
            "_model_module": "@jupyter-widgets/controls",
            "layout": "IPY_MODEL_9880d8c066fe438f8cc18aea0e748aa1"
          }
        },
        "3a2bc56a13be46169349f08e2712fdde": {
          "model_module": "@jupyter-widgets/controls",
          "model_name": "ProgressStyleModel",
          "state": {
            "_view_name": "StyleView",
            "_model_name": "ProgressStyleModel",
            "description_width": "initial",
            "_view_module": "@jupyter-widgets/base",
            "_model_module_version": "1.5.0",
            "_view_count": null,
            "_view_module_version": "1.2.0",
            "bar_color": null,
            "_model_module": "@jupyter-widgets/controls"
          }
        },
        "576ba6336c894cdebf549a0a3e93d817": {
          "model_module": "@jupyter-widgets/base",
          "model_name": "LayoutModel",
          "state": {
            "_view_name": "LayoutView",
            "grid_template_rows": null,
            "right": null,
            "justify_content": null,
            "_view_module": "@jupyter-widgets/base",
            "overflow": null,
            "_model_module_version": "1.2.0",
            "_view_count": null,
            "flex_flow": null,
            "width": null,
            "min_width": null,
            "border": null,
            "align_items": null,
            "bottom": null,
            "_model_module": "@jupyter-widgets/base",
            "top": null,
            "grid_column": null,
            "overflow_y": null,
            "overflow_x": null,
            "grid_auto_flow": null,
            "grid_area": null,
            "grid_template_columns": null,
            "flex": null,
            "_model_name": "LayoutModel",
            "justify_items": null,
            "grid_row": null,
            "max_height": null,
            "align_content": null,
            "visibility": null,
            "align_self": null,
            "height": null,
            "min_height": null,
            "padding": null,
            "grid_auto_rows": null,
            "grid_gap": null,
            "max_width": null,
            "order": null,
            "_view_module_version": "1.2.0",
            "grid_template_areas": null,
            "object_position": null,
            "object_fit": null,
            "grid_auto_columns": null,
            "margin": null,
            "display": null,
            "left": null
          }
        },
        "a7cdc65ac1c94255a346e27e93ab4cbd": {
          "model_module": "@jupyter-widgets/controls",
          "model_name": "DescriptionStyleModel",
          "state": {
            "_view_name": "StyleView",
            "_model_name": "DescriptionStyleModel",
            "description_width": "",
            "_view_module": "@jupyter-widgets/base",
            "_model_module_version": "1.5.0",
            "_view_count": null,
            "_view_module_version": "1.2.0",
            "_model_module": "@jupyter-widgets/controls"
          }
        },
        "9880d8c066fe438f8cc18aea0e748aa1": {
          "model_module": "@jupyter-widgets/base",
          "model_name": "LayoutModel",
          "state": {
            "_view_name": "LayoutView",
            "grid_template_rows": null,
            "right": null,
            "justify_content": null,
            "_view_module": "@jupyter-widgets/base",
            "overflow": null,
            "_model_module_version": "1.2.0",
            "_view_count": null,
            "flex_flow": null,
            "width": null,
            "min_width": null,
            "border": null,
            "align_items": null,
            "bottom": null,
            "_model_module": "@jupyter-widgets/base",
            "top": null,
            "grid_column": null,
            "overflow_y": null,
            "overflow_x": null,
            "grid_auto_flow": null,
            "grid_area": null,
            "grid_template_columns": null,
            "flex": null,
            "_model_name": "LayoutModel",
            "justify_items": null,
            "grid_row": null,
            "max_height": null,
            "align_content": null,
            "visibility": null,
            "align_self": null,
            "height": null,
            "min_height": null,
            "padding": null,
            "grid_auto_rows": null,
            "grid_gap": null,
            "max_width": null,
            "order": null,
            "_view_module_version": "1.2.0",
            "grid_template_areas": null,
            "object_position": null,
            "object_fit": null,
            "grid_auto_columns": null,
            "margin": null,
            "display": null,
            "left": null
          }
        }
      }
    }
  },
  "cells": [
    {
      "cell_type": "code",
      "metadata": {
        "id": "pWODv6ViR4qU",
        "colab_type": "code",
        "outputId": "b0dd7e0a-1693-46e0-d002-5a5eb96d6e50",
        "colab": {
          "base_uri": "https://localhost:8080/",
          "height": 335
        }
      },
      "source": [
        "!pip install lime"
      ],
      "execution_count": 0,
      "outputs": [
        {
          "output_type": "stream",
          "text": [
            "Requirement already satisfied: lime in /usr/local/lib/python3.6/dist-packages (0.2.0.0)\n",
            "Requirement already satisfied: scipy in /usr/local/lib/python3.6/dist-packages (from lime) (1.4.1)\n",
            "Requirement already satisfied: scikit-image>=0.12 in /usr/local/lib/python3.6/dist-packages (from lime) (0.16.2)\n",
            "Requirement already satisfied: tqdm in /usr/local/lib/python3.6/dist-packages (from lime) (4.41.1)\n",
            "Requirement already satisfied: pillow==5.4.1 in /usr/local/lib/python3.6/dist-packages (from lime) (5.4.1)\n",
            "Requirement already satisfied: matplotlib in /usr/local/lib/python3.6/dist-packages (from lime) (3.2.1)\n",
            "Requirement already satisfied: scikit-learn>=0.18 in /usr/local/lib/python3.6/dist-packages (from lime) (0.22.2.post1)\n",
            "Requirement already satisfied: numpy in /usr/local/lib/python3.6/dist-packages (from lime) (1.18.4)\n",
            "Requirement already satisfied: imageio>=2.3.0 in /usr/local/lib/python3.6/dist-packages (from scikit-image>=0.12->lime) (2.4.1)\n",
            "Requirement already satisfied: networkx>=2.0 in /usr/local/lib/python3.6/dist-packages (from scikit-image>=0.12->lime) (2.4)\n",
            "Requirement already satisfied: PyWavelets>=0.4.0 in /usr/local/lib/python3.6/dist-packages (from scikit-image>=0.12->lime) (1.1.1)\n",
            "Requirement already satisfied: python-dateutil>=2.1 in /usr/local/lib/python3.6/dist-packages (from matplotlib->lime) (2.8.1)\n",
            "Requirement already satisfied: kiwisolver>=1.0.1 in /usr/local/lib/python3.6/dist-packages (from matplotlib->lime) (1.2.0)\n",
            "Requirement already satisfied: cycler>=0.10 in /usr/local/lib/python3.6/dist-packages (from matplotlib->lime) (0.10.0)\n",
            "Requirement already satisfied: pyparsing!=2.0.4,!=2.1.2,!=2.1.6,>=2.0.1 in /usr/local/lib/python3.6/dist-packages (from matplotlib->lime) (2.4.7)\n",
            "Requirement already satisfied: joblib>=0.11 in /usr/local/lib/python3.6/dist-packages (from scikit-learn>=0.18->lime) (0.14.1)\n",
            "Requirement already satisfied: decorator>=4.3.0 in /usr/local/lib/python3.6/dist-packages (from networkx>=2.0->scikit-image>=0.12->lime) (4.4.2)\n",
            "Requirement already satisfied: six>=1.5 in /usr/local/lib/python3.6/dist-packages (from python-dateutil>=2.1->matplotlib->lime) (1.12.0)\n"
          ],
          "name": "stdout"
        }
      ]
    },
    {
      "cell_type": "code",
      "metadata": {
        "id": "RHpW9H8cEfdD",
        "colab_type": "code",
        "outputId": "c776f198-79c8-4f18-a3fd-ebae1d85db8a",
        "colab": {
          "base_uri": "https://localhost:8080/",
          "height": 35
        }
      },
      "source": [
        "import tensorflow as tf\n",
        "import matplotlib.pyplot as plt\n",
        "import random\n",
        "import numpy as np\n",
        "\n",
        "\n",
        "\n",
        "from keras.models import Sequential\n",
        "from keras.layers import Dense, Conv2D, Dropout, Flatten, MaxPooling2D, BatchNormalization\n",
        "from keras.wrappers.scikit_learn import KerasClassifier\n",
        "from sklearn.model_selection import GridSearchCV\n",
        "from keras.applications.inception_v3 import decode_predictions, preprocess_input\n",
        "from keras.preprocessing.image import  img_to_array\n",
        "\n",
        "\n",
        "\n",
        "from lime.lime_image import LimeImageExplainer"
      ],
      "execution_count": 0,
      "outputs": [
        {
          "output_type": "stream",
          "text": [
            "Using TensorFlow backend.\n"
          ],
          "name": "stderr"
        }
      ]
    },
    {
      "cell_type": "markdown",
      "metadata": {
        "id": "ZZ7yk4O_Ewqo",
        "colab_type": "text"
      },
      "source": [
        "#**CNN on CIFAR10**"
      ]
    },
    {
      "cell_type": "code",
      "metadata": {
        "id": "CQJHV7TKbQY7",
        "colab_type": "code",
        "outputId": "9d52ec1a-e4bc-4066-d36c-efd983337247",
        "colab": {
          "base_uri": "https://localhost:8080/",
          "height": 52
        }
      },
      "source": [
        "(x_train, y_train), (x_test, y_test) = tf.keras.datasets.cifar10.load_data()"
      ],
      "execution_count": 0,
      "outputs": [
        {
          "output_type": "stream",
          "text": [
            "Downloading data from https://www.cs.toronto.edu/~kriz/cifar-10-python.tar.gz\n",
            "170500096/170498071 [==============================] - 3s 0us/step\n"
          ],
          "name": "stdout"
        }
      ]
    },
    {
      "cell_type": "code",
      "metadata": {
        "id": "tgFQ9nkfbQs-",
        "colab_type": "code",
        "outputId": "e68ac675-e015-4bd0-b2fd-05224ec05d01",
        "colab": {
          "base_uri": "https://localhost:8080/",
          "height": 301
        }
      },
      "source": [
        "#to have an idea how is composed the dataset\n",
        "print(y_train[9]) \n",
        "plt.imshow(x_train[9], cmap='Greys')"
      ],
      "execution_count": 0,
      "outputs": [
        {
          "output_type": "stream",
          "text": [
            "[3]\n"
          ],
          "name": "stdout"
        },
        {
          "output_type": "execute_result",
          "data": {
            "text/plain": [
              "<matplotlib.image.AxesImage at 0x7fbd61ffe1d0>"
            ]
          },
          "metadata": {
            "tags": []
          },
          "execution_count": 6
        },
        {
          "output_type": "display_data",
          "data": {
            "image/png": "[encoded data removed]",
            "text/plain": [
              "<Figure size 432x288 with 1 Axes>"
            ]
          },
          "metadata": {
            "tags": [],
            "needs_background": "light"
          }
        }
      ]
    },
    {
      "cell_type": "code",
      "metadata": {
        "id": "soHywVU1bQwZ",
        "colab_type": "code",
        "outputId": "57104b26-316f-4ae0-ded7-8552c251cab0",
        "colab": {
          "base_uri": "https://localhost:8080/",
          "height": 70
        }
      },
      "source": [
        "#there are 60.000 obs in the train and 10.000 in the test\n",
        "print(x_train.shape)\n",
        "print(x_test.shape)\n",
        "print(np.unique(y_train))"
      ],
      "execution_count": 0,
      "outputs": [
        {
          "output_type": "stream",
          "text": [
            "(50000, 32, 32, 3)\n",
            "(10000, 32, 32, 3)\n",
            "[0 1 2 3 4 5 6 7 8 9]\n"
          ],
          "name": "stdout"
        }
      ]
    },
    {
      "cell_type": "code",
      "metadata": {
        "id": "6uRvPivtbRAa",
        "colab_type": "code",
        "colab": {}
      },
      "source": [
        "#adding the 4th dimension for make shure is possible to use keras\n",
        "x_train = x_train.reshape(50000, 32, 32, 3)\n",
        "x_test=x_test.reshape(10000,32,32,3)\n",
        "#convert to float\n",
        "x_train = x_train.astype('float32')\n",
        "x_test = x_test.astype('float32')"
      ],
      "execution_count": 0,
      "outputs": []
    },
    {
      "cell_type": "code",
      "metadata": {
        "id": "DoTqUd0vbREY",
        "colab_type": "code",
        "colab": {}
      },
      "source": [
        "# Normalizing the RGB codes by dividing it to the max RGB value.\n",
        "x_train /= 255\n",
        "x_test /= 255"
      ],
      "execution_count": 0,
      "outputs": []
    },
    {
      "cell_type": "code",
      "metadata": {
        "id": "G7CXIbr6bRIO",
        "colab_type": "code",
        "outputId": "bd9cbcb8-e40f-4ca0-9d84-ceebd0c98b32",
        "colab": {
          "base_uri": "https://localhost:8080/",
          "height": 388
        }
      },
      "source": [
        "  model = Sequential()\n",
        "  model.add(Conv2D(32, kernel_size=(3,3), input_shape=(32,32,3)))\n",
        "  model.add(BatchNormalization()) \n",
        "  model.add(MaxPooling2D(pool_size=(2, 2)))\n",
        "  model.add(Dropout(0.2))\n",
        "  \n",
        "  model.add(Conv2D(2*32, kernel_size=(3,3), input_shape=(28,28,1),padding='same'))\n",
        "  model.add(BatchNormalization()) \n",
        "  model.add(MaxPooling2D(pool_size=(2, 2)))\n",
        "  model.add(Dropout(0.2))\n",
        "  \n",
        "  model.add(Flatten()) # Flattening the 2D arrays for fully connected layers\n",
        "  \n",
        "  model.add(Dense(2*32, activation=tf.nn.relu))\n",
        "  model.add(Dropout(0.2))\n",
        "  model.add(Dense(32, activation=tf.nn.relu))\n",
        "  model.add(Dropout(0.2))\n",
        "  model.add(Dense(10,activation=tf.nn.softmax))\n",
        "\n",
        "  model.compile(optimizer='adam', \n",
        "              loss='sparse_categorical_crossentropy', \n",
        "              metrics=['accuracy'])\n",
        "  model.fit(x=x_train,y=y_train, epochs=10)\n"
      ],
      "execution_count": 0,
      "outputs": [
        {
          "output_type": "stream",
          "text": [
            "Epoch 1/10\n",
            "50000/50000 [==============================] - 28s 554us/step - loss: 1.8571 - accuracy: 0.3069\n",
            "Epoch 2/10\n",
            "50000/50000 [==============================] - 21s 417us/step - loss: 1.5232 - accuracy: 0.4580\n",
            "Epoch 3/10\n",
            "50000/50000 [==============================] - 21s 422us/step - loss: 1.3534 - accuracy: 0.5234\n",
            "Epoch 4/10\n",
            "50000/50000 [==============================] - 26s 529us/step - loss: 1.2526 - accuracy: 0.5636\n",
            "Epoch 5/10\n",
            "50000/50000 [==============================] - 24s 483us/step - loss: 1.1804 - accuracy: 0.5918\n",
            "Epoch 6/10\n",
            "50000/50000 [==============================] - 19s 382us/step - loss: 1.1294 - accuracy: 0.6118\n",
            "Epoch 7/10\n",
            "50000/50000 [==============================] - 19s 375us/step - loss: 1.0867 - accuracy: 0.6245\n",
            "Epoch 8/10\n",
            "50000/50000 [==============================] - 19s 373us/step - loss: 1.0484 - accuracy: 0.6361\n",
            "Epoch 9/10\n",
            "50000/50000 [==============================] - 21s 415us/step - loss: 1.0157 - accuracy: 0.6522\n",
            "Epoch 10/10\n",
            "50000/50000 [==============================] - 20s 398us/step - loss: 0.9860 - accuracy: 0.6609\n"
          ],
          "name": "stdout"
        },
        {
          "output_type": "execute_result",
          "data": {
            "text/plain": [
              "<keras.callbacks.callbacks.History at 0x7fbd503f9c18>"
            ]
          },
          "metadata": {
            "tags": []
          },
          "execution_count": 10
        }
      ]
    },
    {
      "cell_type": "code",
      "metadata": {
        "id": "cOTL08m94bcR",
        "colab_type": "code",
        "colab": {}
      },
      "source": [
        "#model = KerasClassifier(build_fn=CNN_model, epochs=10)"
      ],
      "execution_count": 0,
      "outputs": []
    },
    {
      "cell_type": "code",
      "metadata": {
        "id": "e0riN5vunv52",
        "colab_type": "code",
        "colab": {}
      },
      "source": [
        "#batch_size = [28, 56]\n",
        "#param_grid = dict(batch_size=batch_size)\n",
        "#grid = GridSearchCV(estimator=model, param_grid=param_grid, cv=2,verbose=1)\n",
        "#grid_result = grid.fit(x_train, y_train)"
      ],
      "execution_count": 0,
      "outputs": []
    },
    {
      "cell_type": "code",
      "metadata": {
        "id": "GdKnykLI0XxY",
        "colab_type": "code",
        "colab": {}
      },
      "source": [
        "#print(\"Best: %f using %s\" % (grid_result.best_score_, grid_result.best_params_))"
      ],
      "execution_count": 0,
      "outputs": []
    },
    {
      "cell_type": "code",
      "metadata": {
        "id": "Q_jqdIt4nwB2",
        "colab_type": "code",
        "outputId": "eb0dfd07-4e35-47f5-82d9-ffe894570887",
        "colab": {
          "base_uri": "https://localhost:8080/",
          "height": 67
        }
      },
      "source": [
        "model.fit(x_test,y_test)"
      ],
      "execution_count": 0,
      "outputs": [
        {
          "output_type": "stream",
          "text": [
            "Epoch 1/1\n",
            "10000/10000 [==============================] - 3s 263us/step - loss: 1.1241 - accuracy: 0.6244\n"
          ],
          "name": "stdout"
        },
        {
          "output_type": "execute_result",
          "data": {
            "text/plain": [
              "<keras.callbacks.callbacks.History at 0x7f3fded30a20>"
            ]
          },
          "metadata": {
            "tags": []
          },
          "execution_count": 12
        }
      ]
    },
    {
      "cell_type": "markdown",
      "metadata": {
        "id": "iGGATfU0lezq",
        "colab_type": "text"
      },
      "source": [
        "#**EXPLANATION on CIFAR10**"
      ]
    },
    {
      "cell_type": "code",
      "metadata": {
        "id": "sJS0IdSw_e0x",
        "colab_type": "code",
        "colab": {}
      },
      "source": [
        "labels = {\n",
        "0: 'airplane',\n",
        "1: 'automobile',\n",
        "2: 'bird',\n",
        "3: 'cat',\n",
        "4: 'deer',\n",
        "5: 'dog',\n",
        "6: 'frog',\n",
        "7: 'horse',\n",
        "8: 'ship',\n",
        "9: 'truck'}"
      ],
      "execution_count": 0,
      "outputs": []
    },
    {
      "cell_type": "code",
      "metadata": {
        "id": "1VuP3hINnwRy",
        "colab_type": "code",
        "outputId": "d522e817-aae5-469a-bb0b-74502363ad07",
        "colab": {
          "base_uri": "https://localhost:8080/",
          "height": 283
        }
      },
      "source": [
        "image_test=x_test[random.randrange(len(x_test))]\n",
        "plt.imshow(image_test.reshape(32,32,3))"
      ],
      "execution_count": 0,
      "outputs": [
        {
          "output_type": "execute_result",
          "data": {
            "text/plain": [
              "<matplotlib.image.AxesImage at 0x7f3f765972e8>"
            ]
          },
          "metadata": {
            "tags": []
          },
          "execution_count": 32
        },
        {
          "output_type": "display_data",
          "data": {
            "image/png": "[encoded data removed]",
            "text/plain": [
              "<Figure size 432x288 with 1 Axes>"
            ]
          },
          "metadata": {
            "tags": [],
            "needs_background": "light"
          }
        }
      ]
    },
    {
      "cell_type": "code",
      "metadata": {
        "id": "cKzBc_qm37ud",
        "colab_type": "code",
        "outputId": "a4e530f9-142d-4d55-8b29-16366c6ae34e",
        "colab": {
          "base_uri": "https://localhost:8080/",
          "height": 34
        }
      },
      "source": [
        "image_test = image_test.reshape(1,32,32,3)\n",
        "prediction = model.predict(image_test)\n",
        "print(labels[prediction.argmax()])"
      ],
      "execution_count": 0,
      "outputs": [
        {
          "output_type": "stream",
          "text": [
            "ship\n"
          ],
          "name": "stdout"
        }
      ]
    },
    {
      "cell_type": "markdown",
      "metadata": {
        "id": "vSt_pLCthv_N",
        "colab_type": "text"
      },
      "source": [
        "#lime\n"
      ]
    },
    {
      "cell_type": "code",
      "metadata": {
        "id": "TgukdAq4nwHN",
        "colab_type": "code",
        "colab": {}
      },
      "source": [
        "from lime.lime_image import LimeImageExplainer"
      ],
      "execution_count": 0,
      "outputs": []
    },
    {
      "cell_type": "code",
      "metadata": {
        "id": "OJ8BAyGqQtSQ",
        "colab_type": "code",
        "colab": {}
      },
      "source": [
        "explainer = LimeImageExplainer()"
      ],
      "execution_count": 0,
      "outputs": []
    },
    {
      "cell_type": "code",
      "metadata": {
        "id": "yBfumQRsnwFf",
        "colab_type": "code",
        "outputId": "866d5ac9-fbc1-4d4c-f3f4-2a28588740b8",
        "colab": {
          "base_uri": "https://localhost:8080/",
          "height": 66,
          "referenced_widgets": [
            "fbec79d167e548a0817b0402a8440b4c",
            "0bee12b6c2e346dba46bd44d5dda7165",
            "de30382d061f426ab8029d3b1e307743",
            "bd338447558541a6bf23e7e7d820e2ed",
            "3a2bc56a13be46169349f08e2712fdde",
            "576ba6336c894cdebf549a0a3e93d817",
            "a7cdc65ac1c94255a346e27e93ab4cbd",
            "9880d8c066fe438f8cc18aea0e748aa1"
          ]
        }
      },
      "source": [
        "explanation = explainer.explain_instance(image_test[0], #the image\n",
        "                                         model.predict, \n",
        "                                         top_labels=2, #want just to see the 2 main classes predicted\n",
        "                                         num_samples=5000, # number of observation sampled from the original distribution in order to computer the linear regression\n",
        "                                         random_seed=42)"
      ],
      "execution_count": 0,
      "outputs": [
        {
          "output_type": "display_data",
          "data": {
            "application/vnd.jupyter.widget-view+json": {
              "model_id": "fbec79d167e548a0817b0402a8440b4c",
              "version_minor": 0,
              "version_major": 2
            },
            "text/plain": [
              "HBox(children=(FloatProgress(value=0.0, max=5000.0), HTML(value='')))"
            ]
          },
          "metadata": {
            "tags": []
          }
        },
        {
          "output_type": "stream",
          "text": [
            "\n"
          ],
          "name": "stdout"
        }
      ]
    },
    {
      "cell_type": "code",
      "metadata": {
        "id": "w0xrF49jnv_z",
        "colab_type": "code",
        "colab": {}
      },
      "source": [
        "from skimage.segmentation import mark_boundaries\n",
        "from matplotlib import pyplot as plt"
      ],
      "execution_count": 0,
      "outputs": []
    },
    {
      "cell_type": "code",
      "metadata": {
        "id": "MIt_2ArwSepH",
        "colab_type": "code",
        "outputId": "819b136c-c7ae-45c8-8c46-388d363a5d92",
        "colab": {
          "base_uri": "https://localhost:8080/",
          "height": 34
        }
      },
      "source": [
        "print(prediction.argsort()[0, -5:][::-1])"
      ],
      "execution_count": 0,
      "outputs": [
        {
          "output_type": "stream",
          "text": [
            "[8 1 9 0 2]\n"
          ],
          "name": "stdout"
        }
      ]
    },
    {
      "cell_type": "code",
      "metadata": {
        "id": "ShCSup7_nv-A",
        "colab_type": "code",
        "outputId": "7d1faddd-ba02-4aae-e049-58b56391873a",
        "colab": {
          "base_uri": "https://localhost:8080/",
          "height": 283
        }
      },
      "source": [
        "temp, mask = explanation.get_image_and_mask(8, positive_only=True, num_features=5, hide_rest=True)\n",
        "# plot image and mask together\n",
        "plt.imshow(mark_boundaries(temp / 2 + 0.5, mask))"
      ],
      "execution_count": 0,
      "outputs": [
        {
          "output_type": "execute_result",
          "data": {
            "text/plain": [
              "<matplotlib.image.AxesImage at 0x7f3f7657c828>"
            ]
          },
          "metadata": {
            "tags": []
          },
          "execution_count": 37
        },
        {
          "output_type": "display_data",
          "data": {
            "image/png": "[encoded data removed]",
            "text/plain": [
              "<Figure size 432x288 with 1 Axes>"
            ]
          },
          "metadata": {
            "tags": [],
            "needs_background": "light"
          }
        }
      ]
    },
    {
      "cell_type": "markdown",
      "metadata": {
        "id": "rncu_OJMPwyc",
        "colab_type": "text"
      },
      "source": [
        "#saliency maps"
      ]
    },
    {
      "cell_type": "code",
      "metadata": {
        "id": "lRGm0NUbcc6f",
        "colab_type": "code",
        "colab": {}
      },
      "source": [
        "import cv2"
      ],
      "execution_count": 0,
      "outputs": []
    },
    {
      "cell_type": "code",
      "metadata": {
        "id": "SpWKr4pjfcTf",
        "colab_type": "code",
        "colab": {}
      },
      "source": [
        "image_test=image_test.reshape(32,32,3)\n",
        "image_test=img_to_array(image_test)"
      ],
      "execution_count": 0,
      "outputs": []
    },
    {
      "cell_type": "code",
      "metadata": {
        "id": "0YGx974maoKZ",
        "colab_type": "code",
        "outputId": "29cf03d0-a91a-41c2-ba7d-a33f3a0819b3",
        "colab": {
          "base_uri": "https://localhost:8080/",
          "height": 283
        }
      },
      "source": [
        "saliency = cv2.saliency.StaticSaliencySpectralResidual_create()\n",
        "(success, saliencyMap) = saliency.computeSaliency(image_test)\n",
        "saliencyMap = (saliencyMap*255).astype(\"uint8\")\n",
        "plt.imshow(image_test)\n",
        "plt.imshow(saliencyMap)"
      ],
      "execution_count": 0,
      "outputs": [
        {
          "output_type": "execute_result",
          "data": {
            "text/plain": [
              "<matplotlib.image.AxesImage at 0x7f3f615174a8>"
            ]
          },
          "metadata": {
            "tags": []
          },
          "execution_count": 40
        },
        {
          "output_type": "display_data",
          "data": {
            "image/png": "[encoded data removed]",
            "text/plain": [
              "<Figure size 432x288 with 1 Axes>"
            ]
          },
          "metadata": {
            "tags": [],
            "needs_background": "light"
          }
        }
      ]
    },
    {
      "cell_type": "code",
      "metadata": {
        "id": "fNemLJyFXg7f",
        "colab_type": "code",
        "outputId": "fccff065-f1b4-4804-f832-4ad3536494db",
        "colab": {
          "base_uri": "https://localhost:8080/",
          "height": 776
        }
      },
      "source": [
        ""
      ],
      "execution_count": 0,
      "outputs": [
        {
          "output_type": "stream",
          "text": [
            "Collecting pyimagemonkey\n",
            "  Downloading https://files.pythonhosted.org/packages/26/c1/c9c6d0ca026dc7c5c507e3c4426ee5e09a9d4fdf4164dee9ec83c65cea0b/pyimagemonkey-0.1.tar.gz\n",
            "Requirement already satisfied: tensorflow>=1.0 in /usr/local/lib/python3.6/dist-packages (from pyimagemonkey) (2.2.0rc4)\n",
            "Requirement already satisfied: requests in /usr/local/lib/python3.6/dist-packages (from pyimagemonkey) (2.23.0)\n",
            "Requirement already satisfied: wheel>=0.26; python_version >= \"3\" in /usr/local/lib/python3.6/dist-packages (from tensorflow>=1.0->pyimagemonkey) (0.34.2)\n",
            "Requirement already satisfied: grpcio>=1.8.6 in /usr/local/lib/python3.6/dist-packages (from tensorflow>=1.0->pyimagemonkey) (1.28.1)\n",
            "Requirement already satisfied: opt-einsum>=2.3.2 in /usr/local/lib/python3.6/dist-packages (from tensorflow>=1.0->pyimagemonkey) (3.2.1)\n",
            "Requirement already satisfied: tensorflow-estimator<2.3.0,>=2.2.0 in /usr/local/lib/python3.6/dist-packages (from tensorflow>=1.0->pyimagemonkey) (2.2.0)\n",
            "Requirement already satisfied: wrapt>=1.11.1 in /usr/local/lib/python3.6/dist-packages (from tensorflow>=1.0->pyimagemonkey) (1.12.1)\n",
            "Requirement already satisfied: gast==0.3.3 in /usr/local/lib/python3.6/dist-packages (from tensorflow>=1.0->pyimagemonkey) (0.3.3)\n",
            "Requirement already satisfied: tensorboard<2.3.0,>=2.2.0 in /usr/local/lib/python3.6/dist-packages (from tensorflow>=1.0->pyimagemonkey) (2.2.1)\n",
            "Requirement already satisfied: astunparse==1.6.3 in /usr/local/lib/python3.6/dist-packages (from tensorflow>=1.0->pyimagemonkey) (1.6.3)\n",
            "Requirement already satisfied: scipy==1.4.1; python_version >= \"3\" in /usr/local/lib/python3.6/dist-packages (from tensorflow>=1.0->pyimagemonkey) (1.4.1)\n",
            "Requirement already satisfied: google-pasta>=0.1.8 in /usr/local/lib/python3.6/dist-packages (from tensorflow>=1.0->pyimagemonkey) (0.2.0)\n",
            "Requirement already satisfied: termcolor>=1.1.0 in /usr/local/lib/python3.6/dist-packages (from tensorflow>=1.0->pyimagemonkey) (1.1.0)\n",
            "Requirement already satisfied: numpy<2.0,>=1.16.0 in /usr/local/lib/python3.6/dist-packages (from tensorflow>=1.0->pyimagemonkey) (1.18.4)\n",
            "Requirement already satisfied: six>=1.12.0 in /usr/local/lib/python3.6/dist-packages (from tensorflow>=1.0->pyimagemonkey) (1.12.0)\n",
            "Requirement already satisfied: keras-preprocessing>=1.1.0 in /usr/local/lib/python3.6/dist-packages (from tensorflow>=1.0->pyimagemonkey) (1.1.0)\n",
            "Requirement already satisfied: protobuf>=3.8.0 in /usr/local/lib/python3.6/dist-packages (from tensorflow>=1.0->pyimagemonkey) (3.10.0)\n",
            "Requirement already satisfied: h5py<2.11.0,>=2.10.0 in /usr/local/lib/python3.6/dist-packages (from tensorflow>=1.0->pyimagemonkey) (2.10.0)\n",
            "Requirement already satisfied: absl-py>=0.7.0 in /usr/local/lib/python3.6/dist-packages (from tensorflow>=1.0->pyimagemonkey) (0.9.0)\n",
            "Requirement already satisfied: urllib3!=1.25.0,!=1.25.1,<1.26,>=1.21.1 in /usr/local/lib/python3.6/dist-packages (from requests->pyimagemonkey) (1.24.3)\n",
            "Requirement already satisfied: certifi>=2017.4.17 in /usr/local/lib/python3.6/dist-packages (from requests->pyimagemonkey) (2020.4.5.1)\n",
            "Requirement already satisfied: idna<3,>=2.5 in /usr/local/lib/python3.6/dist-packages (from requests->pyimagemonkey) (2.9)\n",
            "Requirement already satisfied: chardet<4,>=3.0.2 in /usr/local/lib/python3.6/dist-packages (from requests->pyimagemonkey) (3.0.4)\n",
            "Requirement already satisfied: markdown>=2.6.8 in /usr/local/lib/python3.6/dist-packages (from tensorboard<2.3.0,>=2.2.0->tensorflow>=1.0->pyimagemonkey) (3.2.1)\n",
            "Requirement already satisfied: setuptools>=41.0.0 in /usr/local/lib/python3.6/dist-packages (from tensorboard<2.3.0,>=2.2.0->tensorflow>=1.0->pyimagemonkey) (46.1.3)\n",
            "Requirement already satisfied: google-auth-oauthlib<0.5,>=0.4.1 in /usr/local/lib/python3.6/dist-packages (from tensorboard<2.3.0,>=2.2.0->tensorflow>=1.0->pyimagemonkey) (0.4.1)\n",
            "Requirement already satisfied: tensorboard-plugin-wit>=1.6.0 in /usr/local/lib/python3.6/dist-packages (from tensorboard<2.3.0,>=2.2.0->tensorflow>=1.0->pyimagemonkey) (1.6.0.post3)\n",
            "Requirement already satisfied: werkzeug>=0.11.15 in /usr/local/lib/python3.6/dist-packages (from tensorboard<2.3.0,>=2.2.0->tensorflow>=1.0->pyimagemonkey) (1.0.1)\n",
            "Requirement already satisfied: google-auth<2,>=1.6.3 in /usr/local/lib/python3.6/dist-packages (from tensorboard<2.3.0,>=2.2.0->tensorflow>=1.0->pyimagemonkey) (1.7.2)\n",
            "Requirement already satisfied: requests-oauthlib>=0.7.0 in /usr/local/lib/python3.6/dist-packages (from google-auth-oauthlib<0.5,>=0.4.1->tensorboard<2.3.0,>=2.2.0->tensorflow>=1.0->pyimagemonkey) (1.3.0)\n",
            "Requirement already satisfied: rsa<4.1,>=3.1.4 in /usr/local/lib/python3.6/dist-packages (from google-auth<2,>=1.6.3->tensorboard<2.3.0,>=2.2.0->tensorflow>=1.0->pyimagemonkey) (4.0)\n",
            "Requirement already satisfied: pyasn1-modules>=0.2.1 in /usr/local/lib/python3.6/dist-packages (from google-auth<2,>=1.6.3->tensorboard<2.3.0,>=2.2.0->tensorflow>=1.0->pyimagemonkey) (0.2.8)\n",
            "Requirement already satisfied: cachetools<3.2,>=2.0.0 in /usr/local/lib/python3.6/dist-packages (from google-auth<2,>=1.6.3->tensorboard<2.3.0,>=2.2.0->tensorflow>=1.0->pyimagemonkey) (3.1.1)\n",
            "Requirement already satisfied: oauthlib>=3.0.0 in /usr/local/lib/python3.6/dist-packages (from requests-oauthlib>=0.7.0->google-auth-oauthlib<0.5,>=0.4.1->tensorboard<2.3.0,>=2.2.0->tensorflow>=1.0->pyimagemonkey) (3.1.0)\n",
            "Requirement already satisfied: pyasn1>=0.1.3 in /usr/local/lib/python3.6/dist-packages (from rsa<4.1,>=3.1.4->google-auth<2,>=1.6.3->tensorboard<2.3.0,>=2.2.0->tensorflow>=1.0->pyimagemonkey) (0.4.8)\n",
            "Building wheels for collected packages: pyimagemonkey\n",
            "  Building wheel for pyimagemonkey (setup.py) ... \u001b[?25l\u001b[?25hdone\n",
            "  Created wheel for pyimagemonkey: filename=pyimagemonkey-0.1-cp36-none-any.whl size=5307 sha256=96b1c786265ded4f4f92dc13971eafe0e6b4a029adec1de9438fb0557515b6f6\n",
            "  Stored in directory: /root/.cache/pip/wheels/28/b8/93/a468e1b18ebd63ca11b9a5266df0344c7724aaeea746b80df1\n",
            "Successfully built pyimagemonkey\n",
            "Installing collected packages: pyimagemonkey\n",
            "Successfully installed pyimagemonkey-0.1\n"
          ],
          "name": "stdout"
        }
      ]
    },
    {
      "cell_type": "code",
      "metadata": {
        "id": "NFjTOFP_etM7",
        "colab_type": "code",
        "colab": {}
      },
      "source": [
        ""
      ],
      "execution_count": 0,
      "outputs": []
    },
    {
      "cell_type": "code",
      "metadata": {
        "id": "jnorhrspe9az",
        "colab_type": "code",
        "colab": {}
      },
      "source": [
        ""
      ],
      "execution_count": 0,
      "outputs": []
    }
  ]
}